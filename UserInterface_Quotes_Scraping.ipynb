{
 "cells": [
  {
   "cell_type": "code",
   "execution_count": 21,
   "id": "93216fd4-4e35-4750-9864-1facdd580381",
   "metadata": {},
   "outputs": [],
   "source": [
    "import pandas as pd\n",
    "import numpy as np\n",
    "import selenium"
   ]
  },
  {
   "cell_type": "code",
   "execution_count": 22,
   "id": "7d92e8d8-fb36-47b5-923b-b4f7cec9810e",
   "metadata": {},
   "outputs": [],
   "source": [
    "from selenium.webdriver import Chrome\n",
    "from selenium.webdriver.chrome.service import Service\n",
    "from selenium.webdriver.common.action_chains import ActionChains\n",
    "from selenium.webdriver.support import expected_conditions as EC\n",
    "from selenium.webdriver.support.select import Select\n",
    "from selenium.webdriver.support.ui import WebDriverWait\n",
    "from selenium.webdriver.common.by import By"
   ]
  },
  {
   "cell_type": "code",
   "execution_count": 23,
   "id": "cdf9d152-8262-4460-9a71-c89680fa7708",
   "metadata": {},
   "outputs": [],
   "source": [
    "website = \"http://quotes.toscrape.com/\""
   ]
  },
  {
   "cell_type": "code",
   "execution_count": 24,
   "id": "9652f056-a6ad-4062-a93e-d1248615988c",
   "metadata": {
    "scrolled": true
   },
   "outputs": [
    {
     "name": "stdin",
     "output_type": "stream",
     "text": [
      "Enter the no of quotes you wanna extract: 25\n"
     ]
    },
    {
     "name": "stdout",
     "output_type": "stream",
     "text": [
      "\n",
      "Extracted Quotes:\n",
      "1: “The world as we have created it is a process of our thinking. It cannot be changed without changing our thinking.”\n",
      "2: “It is our choices, Harry, that show what we truly are, far more than our abilities.”\n",
      "3: “There are only two ways to live your life. One is as though nothing is a miracle. The other is as though everything is a miracle.”\n",
      "4: “The person, be it gentleman or lady, who has not pleasure in a good novel, must be intolerably stupid.”\n",
      "5: “Imperfection is beauty, madness is genius and it's better to be absolutely ridiculous than absolutely boring.”\n",
      "6: “Try not to become a man of success. Rather become a man of value.”\n",
      "7: “It is better to be hated for what you are than to be loved for what you are not.”\n",
      "8: “I have not failed. I've just found 10,000 ways that won't work.”\n",
      "9: “A woman is like a tea bag; you never know how strong it is until it's in hot water.”\n",
      "10: “A day without sunshine is like, you know, night.”\n",
      "11: “This life is what you make it. No matter what, you're going to mess up sometimes, it's a universal truth. But the good part is you get to decide how you're going to mess it up. Girls will be your friends - they'll act like it anyway. But just remember, some come, some go. The ones that stay with you through everything - they're your true best friends. Don't let go of them. Also remember, sisters make the best friends in the world. As for lovers, well, they'll come and go too. And baby, I hate to say it, most of them - actually pretty much all of them are going to break your heart, but you can't give up because if you give up, you'll never find your soulmate. You'll never find that half who makes you whole and that goes for everything. Just because you fail once, doesn't mean you're gonna fail at everything. Keep trying, hold on, and always, always, always believe in yourself, because if you don't, then who will, sweetie? So keep your head high, keep your chin up, and most importantly, keep smiling, because life's a beautiful thing and there's so much to smile about.”\n",
      "12: “It takes a great deal of bravery to stand up to our enemies, but just as much to stand up to our friends.”\n",
      "13: “If you can't explain it to a six year old, you don't understand it yourself.”\n",
      "14: “You may not be her first, her last, or her only. She loved before she may love again. But if she loves you now, what else matters? She's not perfect—you aren't either, and the two of you may never be perfect together but if she can make you laugh, cause you to think twice, and admit to being human and making mistakes, hold onto her and give her the most you can. She may not be thinking about you every second of the day, but she will give you a part of her that she knows you can break—her heart. So don't hurt her, don't change her, don't analyze and don't expect more than she can give. Smile when she makes you happy, let her know when she makes you mad, and miss her when she's not there.”\n",
      "15: “I like nonsense, it wakes up the brain cells. Fantasy is a necessary ingredient in living.”\n",
      "16: “I may not have gone where I intended to go, but I think I have ended up where I needed to be.”\n",
      "17: “The opposite of love is not hate, it's indifference. The opposite of art is not ugliness, it's indifference. The opposite of faith is not heresy, it's indifference. And the opposite of life is not death, it's indifference.”\n",
      "18: “It is not a lack of love, but a lack of friendship that makes unhappy marriages.”\n",
      "19: “Good friends, good books, and a sleepy conscience: this is the ideal life.”\n",
      "20: “Life is what happens to us while we are making other plans.”\n",
      "21: “I love you without knowing how, or when, or from where. I love you simply, without problems or pride: I love you in this way because I do not know any other way of loving but this, in which there is no I or you, so intimate that your hand upon my chest is my hand, so intimate that when I fall asleep your eyes close.”\n",
      "22: “For every minute you are angry you lose sixty seconds of happiness.”\n",
      "23: “If you judge people, you have no time to love them.”\n",
      "24: “Anyone who thinks sitting in church can make you a Christian must also think that sitting in a garage can make you a car.”\n",
      "25: “Beauty is in the eye of the beholder and it may be necessary from time to time to give a stupid or misinformed beholder a black eye.”\n",
      "\n",
      "Data has been saved to 'Quotes_to_Scrape.csv'.\n"
     ]
    }
   ],
   "source": [
    "path = r\"C:\\Users\\ASUS\\Downloads\\chromedriver-win64\\chromedriver-win64\\chromedriver.exe\"\n",
    "\n",
    "service = Service(executable_path = path)\n",
    "\n",
    "driver = Chrome(service = service)\n",
    "\n",
    "driver.get(website)\n",
    "no_quote = int(input(\"Enter the no of quotes you wanna extract:\"))\n",
    "current_quote = 0\n",
    "quote_to_scraped = []\n",
    "author = []\n",
    "tag_list = []\n",
    "while current_quote<no_quote:\n",
    "    container = WebDriverWait(driver , 2).until(EC.presence_of_element_located((By.XPATH , '//div[@class=\"row\"]/div[contains(@class, \"md-8\")]')))\n",
    "\n",
    "    quotes = container.find_elements(By.XPATH , './div[@class=\"quote\"]')\n",
    "    for quote in quotes:\n",
    "        if current_quote>=no_quote:\n",
    "            break\n",
    "        quote_to_scraped.append(quote.find_element(By.XPATH , './span[@class=\"text\"]').text)\n",
    "        author.append(quote.find_element(By.XPATH , './span/small').text)\n",
    "        tags = quote.find_elements(By.XPATH , './div/a')\n",
    "        tag_list.append(\", \".join([tag.text for tag in tags]))\n",
    "        current_quote+=1\n",
    "\n",
    "    try:\n",
    "        next_button = driver.find_element(By.XPATH, './/nav//ul//li[@class=\"next\"]/a')\n",
    "        next_button.click()  \n",
    "    except Exception as e:\n",
    "        print(\"No more pages available or unable to locate the 'Next' button.\")\n",
    "        break\n",
    "driver.quit()\n",
    "\n",
    "print(\"\\nExtracted Quotes:\")\n",
    "for i, quote in enumerate(quote_to_scraped, 1):\n",
    "    print(f\"{i}: {quote}\")\n",
    "\n",
    "df = pd.DataFrame({\"Quotes\":quote_to_scraped , \"Author\":author , \"Tags\":tag_list})\n",
    "df.to_csv(\"Quote_to_Scrape.csv\" , index = False)\n",
    "print(\"\\nData has been saved to 'Quotes_to_Scrape.csv'.\")"
   ]
  },
  {
   "cell_type": "code",
   "execution_count": null,
   "id": "35488724-ec23-4a6b-9ce5-90aeed0e3110",
   "metadata": {},
   "outputs": [],
   "source": []
  }
 ],
 "metadata": {
  "kernelspec": {
   "display_name": "Python 3 (ipykernel)",
   "language": "python",
   "name": "python3"
  },
  "language_info": {
   "codemirror_mode": {
    "name": "ipython",
    "version": 3
   },
   "file_extension": ".py",
   "mimetype": "text/x-python",
   "name": "python",
   "nbconvert_exporter": "python",
   "pygments_lexer": "ipython3",
   "version": "3.12.4"
  }
 },
 "nbformat": 4,
 "nbformat_minor": 5
}
